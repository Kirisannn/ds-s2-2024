import pandas as pd
import matplotlib.pyplot as plt


ian_res = pd.DataFrame(columns=["No. of Requests", "Time"])
sy_res = pd.DataFrame(columns=["No. of Requests", "Time"])

for i in range(1,11):
    ian_file = pd.read_csv(f"assignment04_Ian/src/output/scaleTest{i * 10}.csv")
    avg_1 = ian_file["Time"].mean()
    # New row data as a DataFrame
    ian_new = pd.DataFrame({"No. of Requests": [i * 10],"Time": [avg_1]})
    ian_res = pd.concat([ian_res, ian_new], ignore_index=True)

    sy_file = pd.read_csv(f"assignment2/output/scaleTest{i * 10}.csv")
    avg_2 = sy_file["Time"].mean()
    # New row data as a DataFrame
    sy_new = pd.DataFrame({"No. of Requests": [i * 10],"Time": [avg_2]})
    sy_res = pd.concat([sy_res, sy_new], ignore_index=True)

print(ian_res)
print()
print(sy_res)


plt.figure(figsize=(10,6))

plt.plot(ian_res["No. of Requests"], ian_res["Time"], color="green", alpha=0.7, label="Ian")
plt.plot(sy_res["No. of Requests"], sy_res["Time"], color="purple", alpha=0.7, label="Shin Yi")

plt.xlabel("No. of Requests")
plt.ylabel("Time (ms)")
plt.title("No. of Requests vs Time Taken to Process Requests")
plt.legend()
plt.grid(True)

plt.show()



